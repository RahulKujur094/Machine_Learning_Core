{
  "nbformat": 4,
  "nbformat_minor": 0,
  "metadata": {
    "colab": {
      "provenance": [],
      "authorship_tag": "ABX9TyMv8XcgxTTYInJqofpY1HrL",
      "include_colab_link": true
    },
    "kernelspec": {
      "name": "python3",
      "display_name": "Python 3"
    },
    "language_info": {
      "name": "python"
    }
  },
  "cells": [
    {
      "cell_type": "markdown",
      "metadata": {
        "id": "view-in-github",
        "colab_type": "text"
      },
      "source": [
        "<a href=\"https://colab.research.google.com/github/RahulKujur094/Machine_Learning_Core/blob/main/Feature_Normalization.ipynb\" target=\"_parent\"><img src=\"https://colab.research.google.com/assets/colab-badge.svg\" alt=\"Open In Colab\"/></a>"
      ]
    },
    {
      "cell_type": "markdown",
      "source": [
        "USING STANDARD SCALER"
      ],
      "metadata": {
        "id": "Sx1eDGxv7v4i"
      }
    },
    {
      "cell_type": "code",
      "source": [
        "import pandas as pd\n",
        "from sklearn.preprocessing import StandardScaler\n",
        "\n",
        "# Sample dataset\n",
        "df = pd.DataFrame({\n",
        "    'Age': [18, 25, 40, 60, 70],\n",
        "    'Salary': [20000, 40000, 80000, 150000, 200000]\n",
        "})\n",
        "\n",
        "print(\"Original Data:\\n\", df)\n",
        "\n",
        "# Standardization (Z-score scaling)\n",
        "scaler = StandardScaler()\n",
        "df_scaled = pd.DataFrame(scaler.fit_transform(df), columns=df.columns)\n",
        "\n",
        "print(\"\\nAfter Standardization:\\n\", df_scaled)\n"
      ],
      "metadata": {
        "colab": {
          "base_uri": "https://localhost:8080/"
        },
        "id": "eITkgRBl71gF",
        "outputId": "53b2cd0f-4b5c-40c7-99be-c3d8df57f0f6"
      },
      "execution_count": 1,
      "outputs": [
        {
          "output_type": "stream",
          "name": "stdout",
          "text": [
            "Original Data:\n",
            "    Age  Salary\n",
            "0   18   20000\n",
            "1   25   40000\n",
            "2   40   80000\n",
            "3   60  150000\n",
            "4   70  200000\n",
            "\n",
            "After Standardization:\n",
            "         Age    Salary\n",
            "0 -1.237698 -1.153059\n",
            "1 -0.885507 -0.857403\n",
            "2 -0.130814 -0.266091\n",
            "3  0.875445  0.768706\n",
            "4  1.378574  1.507847\n"
          ]
        }
      ]
    },
    {
      "cell_type": "markdown",
      "source": [
        "MIN MAX SCALING  -> CONVERTS THE VALUE BETWEEN 0 TO 1"
      ],
      "metadata": {
        "id": "zFHtopys78xD"
      }
    },
    {
      "cell_type": "code",
      "source": [
        "import pandas as pd\n",
        "from sklearn.preprocessing import MinMaxScaler\n",
        "\n",
        "# Sample dataset\n",
        "df = pd.DataFrame({\n",
        "    'Age': [18, 25, 40, 60, 70],\n",
        "    'Salary': [20000, 40000, 80000, 150000, 200000]\n",
        "})\n",
        "\n",
        "print(\"Original Data:\\n\", df)\n",
        "\n",
        "# Min-Max Scaling (Normalize between 0 and 1)\n",
        "scaler = MinMaxScaler()\n",
        "df_scaled = pd.DataFrame(scaler.fit_transform(df), columns=df.columns)\n",
        "\n",
        "print(\"\\nAfter Min-Max Scaling:\\n\", df_scaled)\n"
      ],
      "metadata": {
        "colab": {
          "base_uri": "https://localhost:8080/"
        },
        "id": "oybcodoy8jlO",
        "outputId": "c6ee1cda-b47e-4271-c68d-63492541039b"
      },
      "execution_count": 2,
      "outputs": [
        {
          "output_type": "stream",
          "name": "stdout",
          "text": [
            "Original Data:\n",
            "    Age  Salary\n",
            "0   18   20000\n",
            "1   25   40000\n",
            "2   40   80000\n",
            "3   60  150000\n",
            "4   70  200000\n",
            "\n",
            "After Min-Max Scaling:\n",
            "         Age    Salary\n",
            "0  0.000000  0.000000\n",
            "1  0.134615  0.111111\n",
            "2  0.423077  0.333333\n",
            "3  0.807692  0.722222\n",
            "4  1.000000  1.000000\n"
          ]
        }
      ]
    },
    {
      "cell_type": "markdown",
      "source": [
        "ROBUST SCALER  - SAME FORMULA AS Z-SCALER BUT USE MEDIAN AND QUARTILE"
      ],
      "metadata": {
        "id": "kJ6ahd6_9hok"
      }
    },
    {
      "cell_type": "code",
      "source": [
        "import pandas as pd\n",
        "from sklearn.preprocessing import RobustScaler\n",
        "\n",
        "# Sample dataset\n",
        "df = pd.DataFrame({\n",
        "    'Age': [18, 25, 40, 60, 120],        # 120 is an outlier\n",
        "    'Salary': [20000, 40000, 80000, 150000, 1000000]  # 1,000,000 is an outlier\n",
        "})\n",
        "\n",
        "print(\"Original Data:\\n\", df)\n",
        "\n",
        "# Robust Scaler\n",
        "scaler = RobustScaler()\n",
        "df_scaled = pd.DataFrame(scaler.fit_transform(df), columns=df.columns)\n",
        "\n",
        "print(\"\\nAfter Robust Scaling:\\n\", df_scaled)\n"
      ],
      "metadata": {
        "colab": {
          "base_uri": "https://localhost:8080/"
        },
        "id": "9kXtFO5g9n5H",
        "outputId": "11dffd56-2afd-4d10-b044-44b849cb220d"
      },
      "execution_count": 3,
      "outputs": [
        {
          "output_type": "stream",
          "name": "stdout",
          "text": [
            "Original Data:\n",
            "    Age   Salary\n",
            "0   18    20000\n",
            "1   25    40000\n",
            "2   40    80000\n",
            "3   60   150000\n",
            "4  120  1000000\n",
            "\n",
            "After Robust Scaling:\n",
            "         Age    Salary\n",
            "0 -0.628571 -0.545455\n",
            "1 -0.428571 -0.363636\n",
            "2  0.000000  0.000000\n",
            "3  0.571429  0.636364\n",
            "4  2.285714  8.363636\n"
          ]
        }
      ]
    },
    {
      "cell_type": "markdown",
      "source": [
        "NORMALIZER - USEFUL WHEN DATA IS BASED ON DIRECTION"
      ],
      "metadata": {
        "id": "2MIsCm1l9qOd"
      }
    },
    {
      "cell_type": "code",
      "source": [
        "import pandas as pd\n",
        "from sklearn.preprocessing import Normalizer\n",
        "\n",
        "# Sample dataset\n",
        "df = pd.DataFrame({\n",
        "    'Feature1': [10, 5, 2],\n",
        "    'Feature2': [3, 15, 8],\n",
        "    'Feature3': [5, 9, 12]\n",
        "})\n",
        "\n",
        "print(\"Original Data:\\n\", df)\n",
        "\n",
        "# Normalizer (row-wise)\n",
        "normalizer = Normalizer()\n",
        "df_normalized = pd.DataFrame(normalizer.fit_transform(df), columns=df.columns)\n",
        "\n",
        "print(\"\\nAfter Normalization:\\n\", df_normalized)\n"
      ],
      "metadata": {
        "colab": {
          "base_uri": "https://localhost:8080/"
        },
        "id": "aA9lDHSY9saH",
        "outputId": "a151493e-ef70-4471-ad11-dbb114ffd355"
      },
      "execution_count": 4,
      "outputs": [
        {
          "output_type": "stream",
          "name": "stdout",
          "text": [
            "Original Data:\n",
            "    Feature1  Feature2  Feature3\n",
            "0        10         3         5\n",
            "1         5        15         9\n",
            "2         2         8        12\n",
            "\n",
            "After Normalization:\n",
            "    Feature1  Feature2  Feature3\n",
            "0  0.863868  0.259161  0.431934\n",
            "1  0.274825  0.824475  0.494685\n",
            "2  0.137361  0.549442  0.824163\n"
          ]
        }
      ]
    }
  ]
}